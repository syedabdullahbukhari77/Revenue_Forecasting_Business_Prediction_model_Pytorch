{
  "nbformat": 4,
  "nbformat_minor": 0,
  "metadata": {
    "colab": {
      "provenance": []
    },
    "kernelspec": {
      "name": "python3",
      "display_name": "Python 3"
    },
    "language_info": {
      "name": "python"
    }
  },
  "cells": [
    {
      "cell_type": "code",
      "source": [
        "import pandas as pd , numpy as np , seaborn as sns , matplotlib.pyplot as plt"
      ],
      "metadata": {
        "id": "q6Rr_lYfnIx6"
      },
      "execution_count": 1,
      "outputs": []
    },
    {
      "cell_type": "code",
      "source": [
        "import torch\n",
        "import torch.nn as nn\n",
        "import torch.optim as optim"
      ],
      "metadata": {
        "id": "giWfxt3Ecxqt"
      },
      "execution_count": 2,
      "outputs": []
    },
    {
      "cell_type": "code",
      "source": [
        "from torch.utils.data import Dataset , DataLoader"
      ],
      "metadata": {
        "id": "iOhwsRI2hOG-"
      },
      "execution_count": 3,
      "outputs": []
    },
    {
      "cell_type": "code",
      "source": [
        "from sklearn.preprocessing import StandardScaler , LabelEncoder\n",
        "from sklearn.model_selection import train_test_split"
      ],
      "metadata": {
        "id": "wxchvH2DhDKt"
      },
      "execution_count": 4,
      "outputs": []
    },
    {
      "cell_type": "code",
      "source": [
        "%%matplotlib.inline"
      ],
      "metadata": {
        "id": "XH0UZuBSnIz9",
        "colab": {
          "base_uri": "https://localhost:8080/"
        },
        "collapsed": true,
        "outputId": "349295b1-0cb8-40e1-90f5-7ea02dd50890"
      },
      "execution_count": 5,
      "outputs": [
        {
          "output_type": "stream",
          "name": "stderr",
          "text": [
            "UsageError: Cell magic `%%matplotlib.inline` not found.\n"
          ]
        }
      ]
    },
    {
      "cell_type": "code",
      "source": [
        "try:\n",
        "    df = pd.read_csv('/content/synthetic_financial_data_bukharii.csv')\n",
        "except FileNotFoundError as e:\n",
        "  print(f'{e}')"
      ],
      "metadata": {
        "id": "L0rgx1ZHnI1t"
      },
      "execution_count": 6,
      "outputs": []
    },
    {
      "cell_type": "code",
      "source": [
        "def fin_data():\n",
        "  for col in df.columns: print(f'{col}: {df[col].isnull().sum()}')\n",
        "fin_data()"
      ],
      "metadata": {
        "colab": {
          "base_uri": "https://localhost:8080/"
        },
        "collapsed": true,
        "id": "sQpUTmowGHw2",
        "outputId": "810433b9-ff2c-45aa-d732-bc82d0528347"
      },
      "execution_count": 19,
      "outputs": [
        {
          "output_type": "stream",
          "name": "stdout",
          "text": [
            "company_id: 0\n",
            "date: 0\n",
            "industry: 0\n",
            "region: 0\n",
            "company_size: 0\n",
            "customer_tenure: 0\n",
            "revenue: 0\n",
            "cost_of_goods_sold: 0\n",
            "operating_income: 0\n",
            "total_assets: 0\n",
            "total_debt: 0\n",
            "revenue_growth: 0\n",
            "risk_score: 0\n",
            "churn: 0\n",
            "gross_profit: 0\n",
            "operating_margin: 0\n",
            "debt_ratio: 0\n",
            "log_revenue: 0\n",
            "some_other_features: 0\n"
          ]
        }
      ]
    },
    {
      "cell_type": "code",
      "source": [
        "for col in df.columns: print(f'{col}')"
      ],
      "metadata": {
        "colab": {
          "base_uri": "https://localhost:8080/"
        },
        "id": "QJ3EcrL8eMQM",
        "outputId": "10ecbc7f-c091-4c5e-dd56-db06b3760ff2"
      },
      "execution_count": 10,
      "outputs": [
        {
          "output_type": "stream",
          "name": "stdout",
          "text": [
            "company_id\n",
            "date\n",
            "industry\n",
            "region\n",
            "company_size\n",
            "customer_tenure\n",
            "revenue\n",
            "cost_of_goods_sold\n",
            "operating_income\n",
            "total_assets\n",
            "total_debt\n",
            "revenue_growth\n",
            "risk_score\n",
            "churn\n",
            "gross_profit\n",
            "operating_margin\n",
            "debt_ratio\n",
            "log_revenue\n",
            "some_other_features\n"
          ]
        }
      ]
    },
    {
      "cell_type": "code",
      "source": [
        "df = df.dropna(subset=['revenue' , 'risk_score' , 'churn'])"
      ],
      "metadata": {
        "id": "1hFfU1Oqnd9w"
      },
      "execution_count": 8,
      "outputs": []
    },
    {
      "cell_type": "code",
      "source": [
        "cate_cols = ['industry' , 'region' , 'company_size']"
      ],
      "metadata": {
        "id": "FuEhukTgelzq"
      },
      "execution_count": 9,
      "outputs": []
    },
    {
      "cell_type": "code",
      "source": [
        "encoders = {col: LabelEncoder().fit(df[col]) for col in cate_cols}"
      ],
      "metadata": {
        "id": "06v6wB5eg-iE"
      },
      "execution_count": 10,
      "outputs": []
    },
    {
      "cell_type": "code",
      "source": [
        "for col in cate_cols:\n",
        "  df[col] = encoders[col].transform(df[col])"
      ],
      "metadata": {
        "id": "BG5noA8wjgIz"
      },
      "execution_count": 11,
      "outputs": []
    },
    {
      "cell_type": "code",
      "source": [
        "features: list = ['customer_tenure' , 'industry' , 'some_other_features' , 'company_size' , 'region' , 'operating_margin' , 'debt_ratio' , 'log_revenue' , 'gross_profit']"
      ],
      "metadata": {
        "id": "PcVZ-c2DnIP2"
      },
      "execution_count": 12,
      "outputs": []
    },
    {
      "cell_type": "code",
      "source": [
        "X = df[features].values"
      ],
      "metadata": {
        "id": "Q-U9P0sAnIRf"
      },
      "execution_count": 13,
      "outputs": []
    },
    {
      "cell_type": "code",
      "source": [
        "target_col: list = ['revenue_growth' , 'risk_score' , 'churn']"
      ],
      "metadata": {
        "id": "r2QAgTT6iZlK"
      },
      "execution_count": 14,
      "outputs": []
    },
    {
      "cell_type": "code",
      "source": [
        "scaler = StandardScaler()"
      ],
      "metadata": {
        "id": "_ZRsN1arjYox"
      },
      "execution_count": 15,
      "outputs": []
    },
    {
      "cell_type": "code",
      "source": [
        "X = scaler.fit_transform(X)"
      ],
      "metadata": {
        "id": "DnT4kD4MjqM_"
      },
      "execution_count": 16,
      "outputs": []
    },
    {
      "cell_type": "code",
      "source": [
        "y = df[target_col].values"
      ],
      "metadata": {
        "id": "Djzgo-ysjEDt"
      },
      "execution_count": 17,
      "outputs": []
    },
    {
      "cell_type": "code",
      "source": [
        "y_risk_score , y_revenue_growth , y_churn = df['risk_score'] , df['revenue_growth'] , df['churn']"
      ],
      "metadata": {
        "id": "CgQtl6bPeKWS"
      },
      "execution_count": 20,
      "outputs": []
    },
    {
      "cell_type": "code",
      "source": [
        "X_train , X_val , y_train , y_val = train_test_split(X , y , test_size=0.2 , random_state=42)"
      ],
      "metadata": {
        "id": "Q4ol_4Kvjtyj"
      },
      "execution_count": 21,
      "outputs": []
    },
    {
      "cell_type": "code",
      "source": [
        "class FinanceDataset(Dataset):\n",
        "  def __init__(self , X , y): self.X , self.y = torch.tensor(X, dtype=torch.float32) , torch.tensor(y , dtype=torch.float32)\n",
        "\n",
        "  def __len__(self): return len(self.X)\n",
        "\n",
        "  def __getitem__(self, idx): return self.X[idx] , self.y[idx]"
      ],
      "metadata": {
        "id": "mY8FV8LIEBIb"
      },
      "execution_count": 22,
      "outputs": []
    },
    {
      "cell_type": "code",
      "source": [
        "batch_size , train_ds , val_ds = 128 , FinanceDataset(X_train , y_train) , FinanceDataset(X_val , y_val)"
      ],
      "metadata": {
        "id": "4AkfSSoIEUko"
      },
      "execution_count": 24,
      "outputs": []
    },
    {
      "cell_type": "code",
      "source": [
        "train_loader , val_loader = DataLoader(train_ds ,  shuffle=True , batch_size=batch_size) , DataLoader(val_ds , batch_size=batch_size)"
      ],
      "metadata": {
        "id": "ZaneHH18bWPY"
      },
      "execution_count": 25,
      "outputs": []
    },
    {
      "cell_type": "code",
      "source": [
        "import torch.nn as nn"
      ],
      "metadata": {
        "id": "xgYArI1fbpiG"
      },
      "execution_count": 26,
      "outputs": []
    },
    {
      "cell_type": "code",
      "source": [
        "class finance_model(nn.Module):\n",
        "  def __init__(self , input_dim):\n",
        "    super(finance_model , self).__init__()\n",
        "\n",
        "    self.shared = nn.Sequential(\n",
        "        nn.Linear(input_dim , 128),\n",
        "        nn.ReLU(),\n",
        "        nn.BatchNorm1d(128),\n",
        "        nn.Dropout(0.3),\n",
        "        nn.Linear(128 , 64),\n",
        "        nn.ReLU()\n",
        "    )\n",
        "\n",
        "    self.revenue_head , self.risk_head , self.churn_head = nn.Linear(64 , 1) , nn.Linear(64 , 1) , nn.Linear(64 , 1)\n",
        "\n",
        "  def forward(self , X):\n",
        "\n",
        "    X = self.shared(X)\n",
        "\n",
        "    revenue= self.revenue_head(X)\n",
        "    risk=self.risk_head(X)\n",
        "    churn= (self.churn_head(X))\n",
        "\n",
        "    return revenue.squeeze () , risk.squeeze() , churn.squeeze()"
      ],
      "metadata": {
        "id": "ilZTAOStbz4n"
      },
      "execution_count": 46,
      "outputs": []
    },
    {
      "cell_type": "code",
      "source": [
        "model = finance_model(input_dim=X.shape[1])"
      ],
      "metadata": {
        "id": "hrVcRyHgcd4z"
      },
      "execution_count": 47,
      "outputs": []
    },
    {
      "cell_type": "code",
      "source": [
        "optimizer = torch.optim.Adam(model.parameters() , lr=0.00005)\n",
        "loss_fn1 = nn.MSELoss()\n",
        "loss_fn2 = nn.BCEWithLogitsLoss()"
      ],
      "metadata": {
        "id": "phmYwgb5eKtc"
      },
      "execution_count": 48,
      "outputs": []
    },
    {
      "cell_type": "code",
      "source": [
        "device = torch.device('cpu')"
      ],
      "metadata": {
        "id": "MeZPC5X9eas2"
      },
      "execution_count": 49,
      "outputs": []
    },
    {
      "cell_type": "code",
      "source": [
        "model.to(device)"
      ],
      "metadata": {
        "colab": {
          "base_uri": "https://localhost:8080/"
        },
        "id": "Z37QQrSwfynt",
        "outputId": "f8009531-6822-4557-e6e0-b011b7be380b"
      },
      "execution_count": 50,
      "outputs": [
        {
          "output_type": "execute_result",
          "data": {
            "text/plain": [
              "finance_model(\n",
              "  (shared): Sequential(\n",
              "    (0): Linear(in_features=9, out_features=128, bias=True)\n",
              "    (1): ReLU()\n",
              "    (2): BatchNorm1d(128, eps=1e-05, momentum=0.1, affine=True, track_running_stats=True)\n",
              "    (3): Dropout(p=0.3, inplace=False)\n",
              "    (4): Linear(in_features=128, out_features=64, bias=True)\n",
              "    (5): ReLU()\n",
              "  )\n",
              "  (revenue_head): Linear(in_features=64, out_features=1, bias=True)\n",
              "  (risk_head): Linear(in_features=64, out_features=1, bias=True)\n",
              "  (churn_head): Linear(in_features=64, out_features=1, bias=True)\n",
              ")"
            ]
          },
          "metadata": {},
          "execution_count": 50
        }
      ]
    },
    {
      "cell_type": "code",
      "source": [
        "epochs: int= 80\n",
        "\n",
        "losses : list = []\n",
        "\n",
        "val_losses : list = []"
      ],
      "metadata": {
        "id": "CTchIQAigi7N"
      },
      "execution_count": 51,
      "outputs": []
    },
    {
      "cell_type": "code",
      "source": [
        "def validation(model , loss_fn1 , loss_fn2 , device, val_loader):\n",
        "\n",
        "  model.eval()\n",
        "  val_loss = 0.0\n",
        "\n",
        "  with torch.no_grad():\n",
        "    for X_batch , y_batch in val_loader:\n",
        "      X_batch , y_batch = X_batch.to(device) , y_batch.to(device)\n",
        "      y_rev , y_risk , y_churn = y_batch[: , 0] , y_batch[: , 1] , y_batch[: , 2]\n",
        "\n",
        "      (pred_rev , pred_risk , pred_churn) = model(X_batch)\n",
        "\n",
        "      loss_rev , loss_risk , loss_churn = loss_fn1(pred_rev , y_rev) , loss_fn1(pred_risk , y_risk) , loss_fn2(pred_churn , y_churn)\n",
        "\n",
        "      loss = loss_rev + loss_risk + loss_churn\n",
        "\n",
        "      val_loss += loss.item()\n",
        "\n",
        "    return val_loss / len(val_loader)"
      ],
      "metadata": {
        "id": "tE-Av2cWrt_E"
      },
      "execution_count": 52,
      "outputs": []
    },
    {
      "cell_type": "code",
      "source": [
        "epochs : int = 100\n",
        "losses : list[float] = []\n",
        "var_losses : list[float] = []"
      ],
      "metadata": {
        "id": "Pi_8Pke2xI7D"
      },
      "execution_count": 53,
      "outputs": []
    },
    {
      "cell_type": "code",
      "source": [
        "for epoch in range(epochs):\n",
        "  model.train()\n",
        "\n",
        "  runing_loss = 0.0\n",
        "\n",
        "  for X_batch , y_batch in train_loader :\n",
        "    X_batch , y_batch = X_batch.to(device) , y_batch.to(device)\n",
        "    y_rev , y_risk , y_churn = y_batch[: , 0] , y_batch[: , 1] , y_batch[: , 2]\n",
        "\n",
        "    optimizer.zero_grad()\n",
        "\n",
        "    pred_rev , pred_risk , pred_churn = model(X_batch)\n",
        "\n",
        "    loss_rev = loss_fn1( pred_rev , y_rev)\n",
        "    loss_risk = loss_fn1 (pred_risk , y_risk )\n",
        "    loss_churn = loss_fn2 (pred_churn , y_churn)\n",
        "\n",
        "    loss = loss_rev + loss_risk + loss_churn\n",
        "\n",
        "    loss.backward()\n",
        "\n",
        "    optimizer.step()\n",
        "\n",
        "    runing_loss += loss.item()\n",
        "\n",
        "  trian_loss_avg = runing_loss / len(train_loader)\n",
        "  losses.append(trian_loss_avg)\n",
        "\n",
        "  if (epoch + 1) % 5 == 0:\n",
        "    val_loss = validation(model , loss_fn1 , loss_fn2 , device, val_loader)\n",
        "    val_losses.append(val_loss)\n",
        "    print(f'Epoch: {epoch + 1}/{epochs} -> Training Loss: {trian_loss_avg:.4f} | Val Loss: {val_loss:.4f}')\n",
        "\n",
        "  else: print(f'Epoch {epoch+1}/{epoch} -> Training Loss: {trian_loss_avg:.4f}')"
      ],
      "metadata": {
        "colab": {
          "base_uri": "https://localhost:8080/"
        },
        "id": "BrbQvwx_1_yN",
        "outputId": "b38aaedb-12ea-41b9-a188-4aed5d876c47"
      },
      "execution_count": 56,
      "outputs": [
        {
          "output_type": "stream",
          "name": "stdout",
          "text": [
            "Epoch 1/0 -> Training Loss: 0.6301\n",
            "Epoch 2/1 -> Training Loss: 0.6297\n",
            "Epoch 3/2 -> Training Loss: 0.6307\n",
            "Epoch 4/3 -> Training Loss: 0.6300\n",
            "Epoch: 5/100 -> Training Loss: 0.6300 | Val Loss: 0.6354\n",
            "Epoch 6/5 -> Training Loss: 0.6294\n",
            "Epoch 7/6 -> Training Loss: 0.6295\n",
            "Epoch 8/7 -> Training Loss: 0.6300\n",
            "Epoch 9/8 -> Training Loss: 0.6296\n",
            "Epoch: 10/100 -> Training Loss: 0.6291 | Val Loss: 0.6347\n",
            "Epoch 11/10 -> Training Loss: 0.6294\n",
            "Epoch 12/11 -> Training Loss: 0.6295\n",
            "Epoch 13/12 -> Training Loss: 0.6297\n",
            "Epoch 14/13 -> Training Loss: 0.6286\n",
            "Epoch: 15/100 -> Training Loss: 0.6293 | Val Loss: 0.6361\n",
            "Epoch 16/15 -> Training Loss: 0.6278\n",
            "Epoch 17/16 -> Training Loss: 0.6282\n",
            "Epoch 18/17 -> Training Loss: 0.6281\n",
            "Epoch 19/18 -> Training Loss: 0.6280\n",
            "Epoch: 20/100 -> Training Loss: 0.6281 | Val Loss: 0.6350\n",
            "Epoch 21/20 -> Training Loss: 0.6280\n",
            "Epoch 22/21 -> Training Loss: 0.6279\n",
            "Epoch 23/22 -> Training Loss: 0.6276\n",
            "Epoch 24/23 -> Training Loss: 0.6279\n",
            "Epoch: 25/100 -> Training Loss: 0.6277 | Val Loss: 0.6350\n",
            "Epoch 26/25 -> Training Loss: 0.6273\n",
            "Epoch 27/26 -> Training Loss: 0.6272\n",
            "Epoch 28/27 -> Training Loss: 0.6272\n",
            "Epoch 29/28 -> Training Loss: 0.6273\n",
            "Epoch: 30/100 -> Training Loss: 0.6272 | Val Loss: 0.6346\n",
            "Epoch 31/30 -> Training Loss: 0.6276\n",
            "Epoch 32/31 -> Training Loss: 0.6273\n",
            "Epoch 33/32 -> Training Loss: 0.6270\n",
            "Epoch 34/33 -> Training Loss: 0.6264\n",
            "Epoch: 35/100 -> Training Loss: 0.6266 | Val Loss: 0.6344\n",
            "Epoch 36/35 -> Training Loss: 0.6267\n",
            "Epoch 37/36 -> Training Loss: 0.6271\n",
            "Epoch 38/37 -> Training Loss: 0.6265\n",
            "Epoch 39/38 -> Training Loss: 0.6266\n",
            "Epoch: 40/100 -> Training Loss: 0.6262 | Val Loss: 0.6340\n",
            "Epoch 41/40 -> Training Loss: 0.6258\n",
            "Epoch 42/41 -> Training Loss: 0.6264\n",
            "Epoch 43/42 -> Training Loss: 0.6264\n",
            "Epoch 44/43 -> Training Loss: 0.6258\n",
            "Epoch: 45/100 -> Training Loss: 0.6259 | Val Loss: 0.6339\n",
            "Epoch 46/45 -> Training Loss: 0.6262\n",
            "Epoch 47/46 -> Training Loss: 0.6261\n",
            "Epoch 48/47 -> Training Loss: 0.6267\n",
            "Epoch 49/48 -> Training Loss: 0.6258\n",
            "Epoch: 50/100 -> Training Loss: 0.6258 | Val Loss: 0.6339\n",
            "Epoch 51/50 -> Training Loss: 0.6261\n",
            "Epoch 52/51 -> Training Loss: 0.6254\n",
            "Epoch 53/52 -> Training Loss: 0.6254\n",
            "Epoch 54/53 -> Training Loss: 0.6256\n",
            "Epoch: 55/100 -> Training Loss: 0.6255 | Val Loss: 0.6339\n",
            "Epoch 56/55 -> Training Loss: 0.6257\n",
            "Epoch 57/56 -> Training Loss: 0.6251\n",
            "Epoch 58/57 -> Training Loss: 0.6255\n",
            "Epoch 59/58 -> Training Loss: 0.6254\n",
            "Epoch: 60/100 -> Training Loss: 0.6254 | Val Loss: 0.6340\n",
            "Epoch 61/60 -> Training Loss: 0.6246\n",
            "Epoch 62/61 -> Training Loss: 0.6258\n",
            "Epoch 63/62 -> Training Loss: 0.6254\n",
            "Epoch 64/63 -> Training Loss: 0.6249\n",
            "Epoch: 65/100 -> Training Loss: 0.6245 | Val Loss: 0.6337\n",
            "Epoch 66/65 -> Training Loss: 0.6254\n",
            "Epoch 67/66 -> Training Loss: 0.6248\n",
            "Epoch 68/67 -> Training Loss: 0.6251\n",
            "Epoch 69/68 -> Training Loss: 0.6249\n",
            "Epoch: 70/100 -> Training Loss: 0.6247 | Val Loss: 0.6336\n",
            "Epoch 71/70 -> Training Loss: 0.6243\n",
            "Epoch 72/71 -> Training Loss: 0.6247\n",
            "Epoch 73/72 -> Training Loss: 0.6249\n",
            "Epoch 74/73 -> Training Loss: 0.6243\n",
            "Epoch: 75/100 -> Training Loss: 0.6246 | Val Loss: 0.6337\n",
            "Epoch 76/75 -> Training Loss: 0.6251\n",
            "Epoch 77/76 -> Training Loss: 0.6247\n",
            "Epoch 78/77 -> Training Loss: 0.6245\n",
            "Epoch 79/78 -> Training Loss: 0.6240\n",
            "Epoch: 80/100 -> Training Loss: 0.6238 | Val Loss: 0.6338\n",
            "Epoch 81/80 -> Training Loss: 0.6243\n",
            "Epoch 82/81 -> Training Loss: 0.6241\n",
            "Epoch 83/82 -> Training Loss: 0.6239\n",
            "Epoch 84/83 -> Training Loss: 0.6246\n",
            "Epoch: 85/100 -> Training Loss: 0.6243 | Val Loss: 0.6333\n",
            "Epoch 86/85 -> Training Loss: 0.6240\n",
            "Epoch 87/86 -> Training Loss: 0.6239\n",
            "Epoch 88/87 -> Training Loss: 0.6236\n",
            "Epoch 89/88 -> Training Loss: 0.6231\n",
            "Epoch: 90/100 -> Training Loss: 0.6251 | Val Loss: 0.6331\n",
            "Epoch 91/90 -> Training Loss: 0.6236\n",
            "Epoch 92/91 -> Training Loss: 0.6238\n",
            "Epoch 93/92 -> Training Loss: 0.6239\n",
            "Epoch 94/93 -> Training Loss: 0.6237\n",
            "Epoch: 95/100 -> Training Loss: 0.6238 | Val Loss: 0.6329\n",
            "Epoch 96/95 -> Training Loss: 0.6235\n",
            "Epoch 97/96 -> Training Loss: 0.6237\n",
            "Epoch 98/97 -> Training Loss: 0.6238\n",
            "Epoch 99/98 -> Training Loss: 0.6238\n",
            "Epoch: 100/100 -> Training Loss: 0.6239 | Val Loss: 0.6333\n"
          ]
        }
      ]
    },
    {
      "cell_type": "code",
      "source": [
        "import matplotlib.pyplot as plt"
      ],
      "metadata": {
        "id": "TtJFo8EquFsT"
      },
      "execution_count": 57,
      "outputs": []
    },
    {
      "cell_type": "code",
      "source": [
        "plt.plot(range(1, len(losses) + 1) , losses , marker = 'o' , color='green')\n",
        "plt.title('Training Loss over Epochs')\n",
        "plt.xlabel('Epoch')\n",
        "plt.ylabel('Loss (Lower is better!)')\n",
        "plt.grid()\n",
        "plt.tight_layout()\n",
        "plt.show()"
      ],
      "metadata": {
        "colab": {
          "base_uri": "https://localhost:8080/",
          "height": 487
        },
        "id": "NP_aIGqxusXF",
        "outputId": "7b9c5a19-6278-419d-8cff-797d06174f13"
      },
      "execution_count": 58,
      "outputs": [
        {
          "output_type": "display_data",
          "data": {
            "text/plain": [
              "<Figure size 640x480 with 1 Axes>"
            ],
            "image/png": "[encoded data removed]"
          },
          "metadata": {}
        }
      ]
    },
    {
      "cell_type": "code",
      "source": [
        "import matplotlib.pyplot as plt\n",
        "\n",
        "plt.plot(losses, label=\"Training Loss\")\n",
        "plt.plot(val_losses, label=\"Validation Loss\")\n",
        "plt.xlabel(\"Epoch\")\n",
        "plt.ylabel(\"Loss\")\n",
        "plt.legend()\n",
        "plt.title(\"Training vs Validation Loss\")\n",
        "plt.show()\n"
      ],
      "metadata": {
        "colab": {
          "base_uri": "https://localhost:8080/",
          "height": 472
        },
        "id": "6_W_6I2nvGKM",
        "outputId": "635de916-2ca4-41ca-ac6c-b1a126430db0"
      },
      "execution_count": 59,
      "outputs": [
        {
          "output_type": "display_data",
          "data": {
            "text/plain": [
              "<Figure size 640x480 with 1 Axes>"
            ],
            "image/png": "[encoded data removed]"
          },
          "metadata": {}
        }
      ]
    },
    {
      "cell_type": "code",
      "source": [
        "import matplotlib.pyplot as plt\n",
        "\n",
        "# Plot training loss for all epochs\n",
        "epochs_range = range(1, len(losses) + 1)\n",
        "plt.plot(epochs_range, losses, label=\"Training Loss\")\n",
        "\n",
        "# Match validation epochs range dynamically\n",
        "val_epochs_range = range(len(losses) - len(val_losses) + 1, len(losses) + 1)\n",
        "plt.plot(val_epochs_range, val_losses, label=\"Validation Loss\")\n",
        "\n",
        "plt.xlabel(\"Epoch\")\n",
        "plt.ylabel(\"Loss\")\n",
        "plt.legend()\n",
        "plt.title(\"Training vs Validation Loss\")\n",
        "plt.grid(True)\n",
        "plt.show()\n"
      ],
      "metadata": {
        "colab": {
          "base_uri": "https://localhost:8080/",
          "height": 472
        },
        "id": "ZeSo_R-ikXN7",
        "outputId": "b9942b17-fca3-4902-ce7b-f7aa811a433c"
      },
      "execution_count": 60,
      "outputs": [
        {
          "output_type": "display_data",
          "data": {
            "text/plain": [
              "<Figure size 640x480 with 1 Axes>"
            ],
            "image/png": "[encoded data removed]"
          },
          "metadata": {}
        }
      ]
    },
    {
      "cell_type": "code",
      "source": [],
      "metadata": {
        "id": "NTDWZ5MOheXQ"
      },
      "execution_count": null,
      "outputs": []
    }
  ]
}